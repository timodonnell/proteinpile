{
 "cells": [
  {
   "cell_type": "code",
   "execution_count": null,
   "id": "a8ea1c86-3e8a-4014-a871-12ad507e0cf1",
   "metadata": {},
   "outputs": [],
   "source": [
    "import pandas\n",
    "import seaborn\n",
    "import nglview"
   ]
  },
  {
   "cell_type": "code",
   "execution_count": null,
   "id": "5abc21ca-3bff-43b9-a718-c87f89befa17",
   "metadata": {},
   "outputs": [],
   "source": [
    "import proteinpile\n",
    "import proteinpile.pile\n",
    "\n",
    "spec = proteinpile.common.get_spec(\"specification.py\")\n",
    "pile = proteinpile.pile.Pile(\"manifest.csv\", \"intermediates/\")\n",
    "pile"
   ]
  },
  {
   "cell_type": "code",
   "execution_count": null,
   "id": "1aff5219-866b-410b-86a0-37bb915cd4bc",
   "metadata": {},
   "outputs": [],
   "source": [
    "all_df = pandas.concat(\n",
    "    [pile.manifest] + [\n",
    "        pandas.DataFrame.from_records(pile.manifest[col].values, index=pile.manifest.index)\n",
    "        for col in pile.manifest.columns\n",
    "        if col.endswith(\"_dict\")\n",
    "    ],\n",
    "    axis=1)\n",
    "all_df[\"design\"] = pile.get_designs(spec, names=all_df.index)\n",
    "all_df"
   ]
  },
  {
   "cell_type": "code",
   "execution_count": null,
   "id": "f142801b-8030-44fc-882a-c77977cff3bc",
   "metadata": {},
   "outputs": [],
   "source": [
    "df = all_df.loc[\n",
    "    all_df[[\"af2_ca_rmsd_to_design\", \"omegafold_ca_rmsd_to_design\"]].max(1) < 2\n",
    "].copy()\n",
    "df.shape"
   ]
  },
  {
   "cell_type": "code",
   "execution_count": null,
   "id": "e0fb8ba6-07c9-43db-8907-c8ae556a4c10",
   "metadata": {},
   "outputs": [],
   "source": [
    "selected_df = df.loc[\n",
    "    (df.af2_ca_rmsd_to_design < 2) &\n",
    "    (df.omegafold_ca_rmsd_to_design < 2) &\n",
    "    (df.af2_motif_0_all_atom_rmsd < 3)\n",
    "]\n",
    "selected_df.shape"
   ]
  },
  {
   "cell_type": "code",
   "execution_count": null,
   "id": "e9788d0c-0930-44df-b8f8-81fce6f565bb",
   "metadata": {},
   "outputs": [],
   "source": [
    "nglview.show_prody(selected_df.iloc[2].design.get_structure(\"af2\"))"
   ]
  },
  {
   "cell_type": "code",
   "execution_count": null,
   "id": "458a6dad-0007-462d-bbe3-2eba1978819c",
   "metadata": {},
   "outputs": [],
   "source": [
    "out = \"selected.pml\"\n",
    "with open(out, \"w\") as fd:\n",
    "    lines = spec.pymol_lines(selected_df.design.values)\n",
    "    for line in lines:\n",
    "        print(line)\n",
    "        fd.write(line)\n",
    "        fd.write(\"\\n\")\n",
    "print(\"Wrote pymol script to\", out)"
   ]
  }
 ],
 "metadata": {
  "kernelspec": {
   "display_name": "Python 3 (ipykernel)",
   "language": "python",
   "name": "python3"
  },
  "language_info": {
   "codemirror_mode": {
    "name": "ipython",
    "version": 3
   },
   "file_extension": ".py",
   "mimetype": "text/x-python",
   "name": "python",
   "nbconvert_exporter": "python",
   "pygments_lexer": "ipython3",
   "version": "3.9.12"
  }
 },
 "nbformat": 4,
 "nbformat_minor": 5
}
